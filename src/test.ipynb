{
 "cells": [
  {
   "cell_type": "code",
   "execution_count": 9,
   "metadata": {},
   "outputs": [],
   "source": [
    "import pandas as pd\n",
    "import aiohttp\n",
    "import asyncio\n",
    "import platform\n",
    "import datetime\n",
    "import sqlalchemy as sql\n",
    "\n",
    "from src.model.tables import Company\n",
    "from src.database.connection import Session\n",
    "\n",
    "if platform.system() == 'Windows':\n",
    "    asyncio.set_event_loop_policy(\n",
    "        asyncio.WindowsSelectorEventLoopPolicy())\n",
    "\n",
    "history_url = \"https://query2.finance.yahoo.com/v8/finance/chart/\"\n",
    "\n",
    "async def get(url):\n",
    "        async with aiohttp.ClientSession() as session:\n",
    "            async with session.get(url) as resp:\n",
    "                return await resp.json()\n",
    "\n",
    "OMX30 = [\n",
    "    'ABB.ST',\n",
    "    'ALFA.ST',\n",
    "    'ALIV-SDB.ST',\n",
    "    'ASSA-B.ST',\n",
    "    'ATCO-A.ST',\n",
    "    'ATCO-B.ST',\n",
    "    'AZN.ST',\n",
    "    'BOL.ST',\n",
    "    'ELUX-B.ST',\n",
    "    'ERIC-B.ST',\n",
    "    'ESSITY-B.ST',\n",
    "    'EVO.ST',\n",
    "    'GETI-B.ST',\n",
    "    'HEXA-B.ST',\n",
    "    'HM-B.ST',\n",
    "    'INVE-B.ST',\n",
    "    'KINV-B.ST',\n",
    "    'NDA-SE.ST',\n",
    "    'SAND.ST',\n",
    "    'SCA-B.ST',\n",
    "    'SEB-A.ST',\n",
    "    'SHB-A.ST',\n",
    "    'SINCH.ST',\n",
    "    'SKA-B.ST',\n",
    "    'SKF-B.ST',\n",
    "    'SWED-A.ST',\n",
    "    'SWMA.ST',\n",
    "    'TEL2-B.ST',\n",
    "    'TELIA.ST',\n",
    "    'VOLV-B.ST',\n",
    "]"
   ]
  },
  {
   "cell_type": "code",
   "execution_count": 10,
   "metadata": {},
   "outputs": [
    {
     "name": "stdout",
     "output_type": "stream",
     "text": [
      "error occurred while fetching from db. type object 'Company' has no attribute 'start'\n",
      "https://query2.finance.yahoo.com/v8/finance/chart/ABB.ST?=period1=&period2=1660937701&interval=1d\n"
     ]
    }
   ],
   "source": [
    "def formatURL(url, ticker):\n",
    "    today = int(datetime.datetime.now().timestamp())\n",
    "    start = ''\n",
    "    with Session() as session:\n",
    "        try:\n",
    "            start = session.query(Company.start).filter(Company.ticker == ticker)\n",
    "        except Exception as exception:\n",
    "            print('error occurred while fetching from db.', exception)\n",
    "    result = f'{url}{ticker}?=period1={start}&period2={today}&interval=1d'\n",
    "    return result\n",
    "    \n",
    "url = formatURL(history_url, OMX30[0])\n",
    "print(url)"
   ]
  }
 ],
 "metadata": {
  "kernelspec": {
   "display_name": "Python 3.9.0 64-bit",
   "language": "python",
   "name": "python3"
  },
  "language_info": {
   "codemirror_mode": {
    "name": "ipython",
    "version": 3
   },
   "file_extension": ".py",
   "mimetype": "text/x-python",
   "name": "python",
   "nbconvert_exporter": "python",
   "pygments_lexer": "ipython3",
   "version": "3.9.0"
  },
  "orig_nbformat": 4,
  "vscode": {
   "interpreter": {
    "hash": "4c37b9e9e27a0f58f1f76daeb0795aad7529a8acf1100c521e915f00a9c40e89"
   }
  }
 },
 "nbformat": 4,
 "nbformat_minor": 2
}

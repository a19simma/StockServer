{
 "cells": [
  {
   "cell_type": "code",
   "execution_count": 1,
   "metadata": {},
   "outputs": [],
   "source": [
    "import pandas as pd\n",
    "import aiohttp\n",
    "import asyncio\n",
    "import platform\n",
    "from datetime import datetime, timedelta\n",
    "import sqlalchemy as sql\n",
    "from bs4 import BeautifulSoup\n",
    "import requests as req\n",
    "\n",
    "from src.model.tables import Company\n",
    "from src.database.connection import Session\n",
    "from src.data_sources.yahoo import YahooFinance\n",
    "\n",
    "if platform.system() == 'Windows':\n",
    "    asyncio.set_event_loop_policy(\n",
    "        asyncio.WindowsSelectorEventLoopPolicy())\n",
    "\n",
    "history_url = \"https://query2.finance.yahoo.com/v8/finance/chart/\"\n",
    "\n",
    "async def get(url):\n",
    "        async with aiohttp.ClientSession() as session:\n",
    "            async with session.get(url) as resp:\n",
    "                return await resp.json()\n",
    "\n",
    "OMX30 = [\n",
    "    'ABB.ST',\n",
    "    'ALFA.ST',\n",
    "    'ALIV-SDB.ST',\n",
    "    'ASSA-B.ST',\n",
    "    'ATCO-A.ST',\n",
    "    'ATCO-B.ST',\n",
    "    'AZN.ST',\n",
    "    'BOL.ST',\n",
    "    'ELUX-B.ST',\n",
    "    'ERIC-B.ST',\n",
    "    'ESSITY-B.ST',\n",
    "    'EVO.ST',\n",
    "    'GETI-B.ST',\n",
    "    'HEXA-B.ST',\n",
    "    'HM-B.ST',\n",
    "    'INVE-B.ST',\n",
    "    'KINV-B.ST',\n",
    "    'NDA-SE.ST',\n",
    "    'SAND.ST',\n",
    "    'SCA-B.ST',\n",
    "    'SEB-A.ST',\n",
    "    'SHB-A.ST',\n",
    "    'SINCH.ST',\n",
    "    'SKA-B.ST',\n",
    "    'SKF-B.ST',\n",
    "    'SWED-A.ST',\n",
    "    'SWMA.ST',\n",
    "    'TEL2-B.ST',\n",
    "    'TELIA.ST',\n",
    "    'VOLV-B.ST',\n",
    "]"
   ]
  },
  {
   "cell_type": "code",
   "execution_count": null,
   "metadata": {},
   "outputs": [],
   "source": [
    "from model.tables import StocksDaily\n",
    "\n",
    "\n",
    "with Session() as session:\n",
    "    tickers = session.query(Company.ticker).all()\n",
    "    for ticker in tickers:\n",
    "        last = session.query(StocksDaily.timestamp).filter(StocksDaily.ticker == ticker).order_by(StocksDaily.timestamp.desc()).limit(1)\n",
    "        print(last)\n"
   ]
  },
  {
   "cell_type": "code",
   "execution_count": 14,
   "metadata": {},
   "outputs": [
    {
     "name": "stdout",
     "output_type": "stream",
     "text": [
      "2001-05-08 08:00:00\n"
     ]
    }
   ],
   "source": [
    "with Session() as session:\n",
    "    last = session.query(Company.start).filter(Company.ticker == 'ABB.ST').scalar()\n",
    "    print(last)"
   ]
  },
  {
   "cell_type": "code",
   "execution_count": 20,
   "metadata": {},
   "outputs": [
    {
     "name": "stdout",
     "output_type": "stream",
     "text": [
      "2022-08-20 18:26:42.824362\n"
     ]
    }
   ],
   "source": [
    "import pandas as pd\n",
    "\n",
    "data = [{'data': 123123,\n",
    "'start': datetime.today()}]\n",
    "data = pd.DataFrame(data)\n",
    "print(pd.to_datetime(data['start'].values[0]))"
   ]
  }
 ],
 "metadata": {
  "kernelspec": {
   "display_name": "Python 3.9.0 ('StockServer-joIRoIMF')",
   "language": "python",
   "name": "python3"
  },
  "language_info": {
   "codemirror_mode": {
    "name": "ipython",
    "version": 3
   },
   "file_extension": ".py",
   "mimetype": "text/x-python",
   "name": "python",
   "nbconvert_exporter": "python",
   "pygments_lexer": "ipython3",
   "version": "3.9.0"
  },
  "orig_nbformat": 4,
  "vscode": {
   "interpreter": {
    "hash": "7d3c49e35f3b3ab14b2a7298a4e63d715ac4067ce7f02a0339ec21311c3b50e9"
   }
  }
 },
 "nbformat": 4,
 "nbformat_minor": 2
}
